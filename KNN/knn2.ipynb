{
 "cells": [
  {
   "cell_type": "markdown",
   "metadata": {},
   "source": [
    "KNN algorithm example\n",
    "\n",
    "https://www.linkedin.com/pulse/k-nearest-neighbor-algorithm-from-scratchwithout-library-ritika-yadav/"
   ]
  },
  {
   "cell_type": "code",
   "execution_count": 1,
   "metadata": {},
   "outputs": [
    {
     "name": "stdout",
     "output_type": "stream",
     "text": [
      "We expected 1, Got 1.0\n"
     ]
    }
   ],
   "source": [
    "from math import sqrt\n",
    "import numpy as np\n",
    "\n",
    "dataset = [\n",
    "    [2.7810836,2.550537003,0],\n",
    "    [1.465489372,2.362125076,0],\n",
    "    [3.396561688,4.400293529,0],\n",
    "    [1.38807019,1.850220317,0],\n",
    "    [3.06407232,3.005305973,0],\n",
    "    [7.627531214,2.759262235,1],\n",
    "    [5.332441248,2.088626775,1],\n",
    "    [6.922596716,1.77106367,1],\n",
    "    [8.675418651,-0.242068655,1],\n",
    "    [7.673756466,3.508563011,1]\n",
    "]\n",
    "\n",
    "def Euclidean_distance(row1, row2):\n",
    "    distance = 0\n",
    "    for i in range(len(row1)-1):\n",
    "        distance += (row1[i] - row2[i])**2            #(x1-x2)**2+(y1-y2)**2\n",
    "    return sqrt(distance)\n",
    "\n",
    "\n",
    "\n",
    "def Get_Neighbors(train, test_row, num):\n",
    "    distance = list() # []\n",
    "    data = []\n",
    "    for i in train:\n",
    "        dist = Euclidean_distance(test_row, i)\n",
    "        distance.append(dist)\n",
    "        data.append(i)\n",
    "    distance = np.array(distance)\n",
    "    data = np.array(data)\n",
    "    \"\"\" we are finding index of min distance \"\"\"\n",
    "    index_dist = distance.argsort()\n",
    "    \"\"\" we arange our data acco. to index \"\"\"\n",
    "    data =data[index_dist]\n",
    "    \"\"\" we are slicing num number of datas \"\"\"\n",
    "    neighbors = data[:num]\n",
    "    \n",
    "    return neighbors\n",
    "\n",
    "\n",
    "def predict_classification(train, test_row, num):\n",
    "    Neighbors = Get_Neighbors(train, test_row, num)\n",
    "    Classes = []\n",
    "    for i in Neighbors:\n",
    "        Classes.append(i[-1])\n",
    "    prediction = max(Classes, key= Classes.count)\n",
    "    return prediction\n",
    "\n",
    "test =      [7.627531214,2.759262235,1]\n",
    "prediction = predict_classification(dataset, test, 4)\n",
    "print(\"We expected {}, Got {}\".format(test[-1], prediction))\n"
   ]
  }
 ],
 "metadata": {
  "kernelspec": {
   "display_name": "jup_conda3.11.7",
   "language": "python",
   "name": "python3"
  },
  "language_info": {
   "codemirror_mode": {
    "name": "ipython",
    "version": 3
   },
   "file_extension": ".py",
   "mimetype": "text/x-python",
   "name": "python",
   "nbconvert_exporter": "python",
   "pygments_lexer": "ipython3",
   "version": "3.11.7"
  }
 },
 "nbformat": 4,
 "nbformat_minor": 2
}
