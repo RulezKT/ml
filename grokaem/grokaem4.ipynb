{
 "cells": [
  {
   "cell_type": "code",
   "execution_count": 34,
   "id": "db18bd8f",
   "metadata": {},
   "outputs": [],
   "source": [
    "import numpy as np"
   ]
  },
  {
   "cell_type": "code",
   "execution_count": 35,
   "id": "73b01695",
   "metadata": {},
   "outputs": [],
   "source": [
    "weights = np.array([0.5, 0.48, -0.7])\n",
    "\n",
    "alpha = 0.1\n",
    "\n",
    "streetlights = np.array([[1, 0, 1],\n",
    "                            [0, 1, 1],\n",
    "                            [0, 0, 1],\n",
    "                            [1, 1, 1],\n",
    "                            [0, 1, 1],\n",
    "                            [1, 0, 1]])\n",
    "\n",
    "walk_vs_stop = np.array([0, 1, 0, 1, 1, 0])"
   ]
  },
  {
   "cell_type": "code",
   "execution_count": 36,
   "id": "f2eb8824",
   "metadata": {},
   "outputs": [],
   "source": [
    "input = streetlights[0]\n",
    "goal_prediction = walk_vs_stop[0]"
   ]
  },
  {
   "cell_type": "code",
   "execution_count": 37,
   "id": "967027b8",
   "metadata": {},
   "outputs": [
    {
     "name": "stdout",
     "output_type": "stream",
     "text": [
      "Weights: [ 2.03361049e-04  1.00020434e+00 -2.35315658e-04]\n"
     ]
    }
   ],
   "source": [
    "for iteration in range(100):\n",
    "    error_for_all_lights = 0\n",
    "    for row_index in range(len(walk_vs_stop)):\n",
    "        input = streetlights[row_index]\n",
    "        goal_prediction = walk_vs_stop[row_index]\n",
    "\n",
    "        prediction = input.dot(weights)\n",
    "\n",
    "        error = (goal_prediction - prediction) ** 2\n",
    "        error_for_all_lights += error\n",
    "\n",
    "        delta = prediction - goal_prediction\n",
    "\n",
    "        # print(weights)\n",
    "        weights = weights - (alpha * (input * delta))\n",
    "        # print(weights)\n",
    "\n",
    "        # print(\"Prediction: \" + str(prediction))\n",
    "\n",
    "    # print(\"Error: \" + str(error_for_all_lights) + \"\\n\")\n",
    "        \n",
    "print(\"Weights: \" + str(weights))"
   ]
  }
 ],
 "metadata": {
  "kernelspec": {
   "display_name": "Python 3",
   "language": "python",
   "name": "python3"
  },
  "language_info": {
   "codemirror_mode": {
    "name": "ipython",
    "version": 3
   },
   "file_extension": ".py",
   "mimetype": "text/x-python",
   "name": "python",
   "nbconvert_exporter": "python",
   "pygments_lexer": "ipython3",
   "version": "3.11.7"
  }
 },
 "nbformat": 4,
 "nbformat_minor": 5
}
