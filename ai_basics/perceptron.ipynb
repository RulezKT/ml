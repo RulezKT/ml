{
 "cells": [
  {
   "cell_type": "code",
   "execution_count": 113,
   "metadata": {},
   "outputs": [],
   "source": [
    "import random\n",
    "\n",
    "class Perceptron:\n",
    "\n",
    "    num0 = list(\"111101101101111\")\n",
    "    num1 = list(\"001001001001001\")\n",
    "    num2 = list(\"111001111100111\")\n",
    "    num3 = list(\"111001111001111\")\n",
    "    num4 = list(\"101101111001001\")\n",
    "    num5 = list(\"111100111001111\")\n",
    "    num6 = list(\"111100111101111\")\n",
    "    num7 = list(\"111001001001001\")\n",
    "    num8 = list(\"111101111101111\")\n",
    "    num9 = list(\"111101111001111\")\n",
    "\n",
    "    nums = [num0, num1, num2, num3, num4, num5, num6, num7, num8, num9]\n",
    "\n",
    "    b = 7\n",
    "\n",
    "    def __init__(self, n):\n",
    "        self.n_sensor = n\n",
    "        self.weights = [[0 for i in range(self.n_sensor)] for j in range(10)]\n",
    "    \n",
    "    def percep(self, Sensor, tema):\n",
    "        s = 0\n",
    "        for i in range(self.n_sensor):\n",
    "            s += int(Sensor[i]) * self.weights[tema][i]\n",
    "        if s > self.b:\n",
    "            return True\n",
    "        else:\n",
    "            return False\n",
    "\n",
    "    def decrease(self, number, tema):\n",
    "        for i in range(self.n_sensor):\n",
    "            if int(number[i]) == 1:\n",
    "                self.weights[tema][i] -= 1\n",
    "\n",
    "    def increase(self, number, tema):\n",
    "        for i in range(self.n_sensor):\n",
    "            if int(number[i]) == 1:\n",
    "                self.weights[tema][i] += 1\n",
    "\n",
    "    def train(self, tema, n):\n",
    "        for _ in range(n):\n",
    "            j = random.randint(0,9)\n",
    "            r = self.percep(self.nums[j], tema)\n",
    "            if j != tema:\n",
    "                if r == True:\n",
    "                    self.decrease(self.nums[j],tema)\n",
    "            else:\n",
    "                if not r:\n",
    "                    self.increase(self.nums[tema], tema)"
   ]
  },
  {
   "cell_type": "code",
   "execution_count": 114,
   "metadata": {},
   "outputs": [],
   "source": [
    "perceptron = Perceptron(15)\n",
    "perceptron.train(0, 1_000_000)\n",
    "perceptron.train(1, 1_000_000)\n",
    "perceptron.train(2, 1_000_000)\n",
    "perceptron.train(3, 1_000_000)\n",
    "perceptron.train(4, 1_000_000)\n",
    "perceptron.train(5, 1_000_000)\n",
    "perceptron.train(6, 1_000_000)\n",
    "perceptron.train(7, 1_000_000)\n",
    "perceptron.train(8, 1_000_000)\n",
    "perceptron.train(9, 1_000_000)\n"
   ]
  },
  {
   "cell_type": "code",
   "execution_count": 115,
   "metadata": {},
   "outputs": [
    {
     "name": "stdout",
     "output_type": "stream",
     "text": [
      "[0, 0, 0, 2, 0, 1, 1, -4, 0, 3, 0, 0, 1, 1, 0]\n",
      "[-3, -2, 2, -1, 0, 2, -2, -2, 2, -1, 0, 3, -1, -1, 2]\n",
      "[1, 1, 1, -3, 0, 2, 1, 1, 1, 4, 0, -5, 1, 1, 1]\n",
      "[0, 1, 0, -8, 0, 2, 1, 2, 0, -5, 0, 1, 2, 2, 0]\n",
      "[1, -1, 1, 1, 0, 2, 1, 1, 1, -1, 0, 1, -1, -1, 1]\n",
      "[1, 1, 1, 2, 0, -5, 1, 1, 1, -5, 0, 1, 1, 1, 1]\n",
      "[0, 0, 0, 2, 0, -6, 0, 1, 0, 3, 0, 2, 0, 0, 0]\n",
      "[2, 2, 1, 0, 0, 1, -1, -1, 1, -1, 0, 2, -1, -1, 1]\n",
      "[-1, 0, -1, 3, 0, 3, -1, 2, -1, 4, 0, 1, 0, 0, -1]\n",
      "[-1, 1, -1, 7, 0, 3, -1, 0, -1, -7, 0, 0, 1, 1, -1]\n"
     ]
    }
   ],
   "source": [
    "for weight in perceptron.weights:\n",
    "    print(weight)\n"
   ]
  },
  {
   "cell_type": "code",
   "execution_count": 121,
   "metadata": {},
   "outputs": [
    {
     "name": "stdout",
     "output_type": "stream",
     "text": [
      "0 is 5?  False\n",
      "1 is 5?  False\n",
      "2 is 5?  False\n",
      "3 is 5?  False\n",
      "4 is 5?  False\n",
      "5 is 5?  True\n",
      "6 is 5?  False\n",
      "7 is 5?  False\n",
      "8 is 5?  False\n",
      "9 is 5?  False\n"
     ]
    }
   ],
   "source": [
    "print(\"0 is 5? \", perceptron.percep(perceptron.num0, 5))\n",
    "print(\"1 is 5? \", perceptron.percep(perceptron.num1, 5))\n",
    "print(\"2 is 5? \", perceptron.percep(perceptron.num2, 5))\n",
    "print(\"3 is 5? \", perceptron.percep(perceptron.num3, 5))\n",
    "print(\"4 is 5? \", perceptron.percep(perceptron.num4, 5))\n",
    "print(\"5 is 5? \", perceptron.percep(perceptron.num5, 5))\n",
    "print(\"6 is 5? \", perceptron.percep(perceptron.num6, 5))\n",
    "print(\"7 is 5? \", perceptron.percep(perceptron.num7, 5))\n",
    "print(\"8 is 5? \", perceptron.percep(perceptron.num8, 5))\n",
    "print(\"9 is 5? \", perceptron.percep(perceptron.num9, 5))\n"
   ]
  },
  {
   "cell_type": "code",
   "execution_count": 123,
   "metadata": {},
   "outputs": [
    {
     "name": "stdout",
     "output_type": "stream",
     "text": [
      "+++++++++++++++++++++++++++++++\n",
      "is 5 in 5 ?  True\n",
      "is 5 in 51 ?  True\n",
      "is 5 in 52 ?  True\n",
      "is 5 in 53 ?  True\n",
      "is 5 in 54 ?  True\n",
      "is 5 in 55 ?  True\n",
      "is 5 in 56 ?  True\n"
     ]
    }
   ],
   "source": [
    "\n",
    "num51 = list(\"111100111000111\")\n",
    "num52 = list(\"111100010001111\")\n",
    "num53 = list(\"111100011001111\")\n",
    "num54 = list(\"110100111001111\")\n",
    "num55 = list(\"110100111001011\")\n",
    "num56 = list(\"111100101001111\")\n",
    "\n",
    "print(\"+++++++++++++++++++++++++++++++\")\n",
    "\n",
    "print(\"is 5 in 5 ? \", perceptron.percep(perceptron.num5, 5))\n",
    "print(\"is 5 in 51 ? \", perceptron.percep(num51, 5))\n",
    "print(\"is 5 in 52 ? \",perceptron.percep(num52, 5))\n",
    "print(\"is 5 in 53 ? \", perceptron.percep(num53, 5))\n",
    "print(\"is 5 in 54 ? \", perceptron.percep(num54, 5))\n",
    "print(\"is 5 in 55 ? \", perceptron.percep(num55, 5))\n",
    "print(\"is 5 in 56 ? \", perceptron.percep(num56, 5))"
   ]
  }
 ],
 "metadata": {
  "kernelspec": {
   "display_name": "Python 3",
   "language": "python",
   "name": "python3"
  },
  "language_info": {
   "codemirror_mode": {
    "name": "ipython",
    "version": 3
   },
   "file_extension": ".py",
   "mimetype": "text/x-python",
   "name": "python",
   "nbconvert_exporter": "python",
   "pygments_lexer": "ipython3",
   "version": "3.11.7"
  }
 },
 "nbformat": 4,
 "nbformat_minor": 2
}
