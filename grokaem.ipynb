{
 "cells": [
  {
   "cell_type": "code",
   "execution_count": 30,
   "id": "d81ee2fb-6498-4bbf-94b4-ff955f4b97d2",
   "metadata": {
    "tags": []
   },
   "outputs": [
    {
     "name": "stdout",
     "output_type": "stream",
     "text": [
      "0.8500000000000001\n"
     ]
    }
   ],
   "source": [
    "weight = 0.1\n",
    "def neural_network(input, weight):\n",
    "    prediction = input*weight\n",
    "    return prediction\n",
    "number_of_toes=[8.5, 9.5, 10, 9]\n",
    "input = number_of_toes[0]\n",
    "pred = neural_network(input, weight)\n",
    "print(pred)"
   ]
  },
  {
   "cell_type": "code",
   "execution_count": 31,
   "id": "c713d78f",
   "metadata": {},
   "outputs": [
    {
     "name": "stdout",
     "output_type": "stream",
     "text": [
      "-----\n",
      "Weight:0.0\n",
      "Error:0.6400000000000001 Prediction:0.0\n",
      "Delta:-0.8 Weight Delta:-0.8800000000000001\n",
      "-----\n",
      "Weight:0.8800000000000001\n",
      "Error:0.02822400000000005 Prediction:0.9680000000000002\n",
      "Delta:0.16800000000000015 Weight Delta:0.1848000000000002\n",
      "-----\n",
      "Weight:0.6951999999999999\n",
      "Error:0.0012446784000000064 Prediction:0.76472\n",
      "Delta:-0.03528000000000009 Weight Delta:-0.0388080000000001\n",
      "-----\n",
      "Weight:0.734008\n",
      "Error:5.4890317439999896e-05 Prediction:0.8074088\n",
      "Delta:0.007408799999999993 Weight Delta:0.008149679999999992\n"
     ]
    }
   ],
   "source": [
    "weight, goal_pred, input = (0.0, 0.8, 1.1)\n",
    "\n",
    "for iteration in range(4):\n",
    "    print(\"-----\\nWeight:\" + str(weight))\n",
    "    pred = input * weight\n",
    "    error = (pred - goal_pred) ** 2\n",
    "    delta = pred - goal_pred\n",
    "    weight_delta = input * delta\n",
    "    weight -= weight_delta\n",
    "\n",
    "    print(\"Error:\" + str(error) + \" Prediction:\" + str(pred))\n",
    "    print(\"Delta:\" + str(delta) + \" Weight Delta:\" + str(weight_delta))"
   ]
  },
  {
   "cell_type": "code",
   "execution_count": 32,
   "id": "4a0e24eb",
   "metadata": {},
   "outputs": [
    {
     "name": "stdout",
     "output_type": "stream",
     "text": [
      "Error:0.30250000000000005 Prediction:0.25\n",
      "Error:0.17015625000000004 Prediction:0.3875\n",
      "Error:0.095712890625 Prediction:0.49062500000000003\n",
      "Error:0.05383850097656251 Prediction:0.56796875\n",
      "Error:0.03028415679931642 Prediction:0.6259765625\n",
      "Error:0.0170348381996155 Prediction:0.669482421875\n",
      "Error:0.00958209648728372 Prediction:0.70211181640625\n",
      "Error:0.005389929274097089 Prediction:0.7265838623046875\n",
      "Error:0.0030318352166796153 Prediction:0.7449378967285156\n",
      "Error:0.0017054073093822882 Prediction:0.7587034225463867\n",
      "Error:0.0009592916115275371 Prediction:0.76902756690979\n",
      "Error:0.0005396015314842384 Prediction:0.7767706751823426\n",
      "Error:0.000303525861459885 Prediction:0.7825780063867569\n",
      "Error:0.00017073329707118678 Prediction:0.7869335047900676\n",
      "Error:9.603747960254256e-05 Prediction:0.7902001285925507\n",
      "Error:5.402108227642978e-05 Prediction:0.7926500964444131\n",
      "Error:3.038685878049206e-05 Prediction:0.7944875723333098\n",
      "Error:1.7092608064027242e-05 Prediction:0.7958656792499823\n",
      "Error:9.614592036015323e-06 Prediction:0.7968992594374867\n",
      "Error:5.408208020258491e-06 Prediction:0.7976744445781151\n"
     ]
    }
   ],
   "source": [
    "weight = 0.5\n",
    "goal_pred = 0.8\n",
    "input = 0.5\n",
    "\n",
    "for iteration in range(20):\n",
    "    pred = input * weight\n",
    "    error = (pred - goal_pred) ** 2\n",
    "    direction_and_amount = (pred - goal_pred) * input\n",
    "    weight = weight - direction_and_amount\n",
    "    print(\"Error:\" + str(error) + \" Prediction:\" + str(pred))"
   ]
  },
  {
   "cell_type": "code",
   "execution_count": 33,
   "id": "d839ff72",
   "metadata": {},
   "outputs": [
    {
     "name": "stdout",
     "output_type": "stream",
     "text": [
      "Error:0.6400000000000001 Prediction:0.0\n",
      "Error:0.02822400000000005 Prediction:0.9680000000000002\n",
      "Error:0.0012446784000000064 Prediction:0.76472\n",
      "Error:5.4890317439999896e-05 Prediction:0.8074088\n"
     ]
    }
   ],
   "source": [
    "weight = 0.0\n",
    "goal_pred = 0.8\n",
    "input = 1.1\n",
    "\n",
    "for iteration in range(4):\n",
    "    pred = input * weight\n",
    "    error = (pred- goal_pred)**2\n",
    "    delta = pred - goal_pred\n",
    "    weight_delta = delta*input\n",
    "    weight= weight - weight_delta\n",
    "    \n",
    "    print (\"Error:\"+ str(error)+ \" Prediction:\" + str(pred))"
   ]
  },
  {
   "cell_type": "markdown",
   "id": "a609f439",
   "metadata": {},
   "source": [
    "KNN algorithm example\n",
    "\n",
    "https://www.linkedin.com/pulse/k-nearest-neighbor-algorithm-from-scratchwithout-library-ritika-yadav/"
   ]
  },
  {
   "cell_type": "code",
   "execution_count": 34,
   "id": "bac283e6",
   "metadata": {},
   "outputs": [
    {
     "name": "stdout",
     "output_type": "stream",
     "text": [
      "We expected 1, Got 1.0\n"
     ]
    }
   ],
   "source": [
    "from math import sqrt\n",
    "import numpy as np\n",
    "\n",
    "dataset = [\n",
    "    [2.7810836,2.550537003,0],\n",
    "    [1.465489372,2.362125076,0],\n",
    "    [3.396561688,4.400293529,0],\n",
    "    [1.38807019,1.850220317,0],\n",
    "    [3.06407232,3.005305973,0],\n",
    "    [7.627531214,2.759262235,1],\n",
    "    [5.332441248,2.088626775,1],\n",
    "    [6.922596716,1.77106367,1],\n",
    "    [8.675418651,-0.242068655,1],\n",
    "    [7.673756466,3.508563011,1]\n",
    "]\n",
    "\n",
    "def Euclidean_distance(row1, row2):\n",
    "    distance = 0\n",
    "    for i in range(len(row1)-1):\n",
    "        distance += (row1[i] - row2[i])**2            #(x1-x2)**2+(y1-y2)**2\n",
    "    return sqrt(distance)\n",
    "\n",
    "\n",
    "\n",
    "def Get_Neighbors(train, test_row, num):\n",
    "    distance = list() # []\n",
    "    data = []\n",
    "    for i in train:\n",
    "        dist = Euclidean_distance(test_row, i)\n",
    "        distance.append(dist)\n",
    "        data.append(i)\n",
    "    distance = np.array(distance)\n",
    "    data = np.array(data)\n",
    "    \"\"\" we are finding index of min distance \"\"\"\n",
    "    index_dist = distance.argsort()\n",
    "    \"\"\" we arange our data acco. to index \"\"\"\n",
    "    data =data[index_dist]\n",
    "    \"\"\" we are slicing num number of datas \"\"\"\n",
    "    neighbors = data[:num]\n",
    "    \n",
    "    return neighbors\n",
    "\n",
    "\n",
    "def predict_classification(train, test_row, num):\n",
    "    Neighbors = Get_Neighbors(train, test_row, num)\n",
    "    Classes = []\n",
    "    for i in Neighbors:\n",
    "        Classes.append(i[-1])\n",
    "    prediction = max(Classes, key= Classes.count)\n",
    "    return prediction\n",
    "\n",
    "test =      [7.627531214,2.759262235,1]\n",
    "prediction = predict_classification(dataset, test, 4)\n",
    "print(\"We expected {}, Got {}\".format(test[-1], prediction))\n"
   ]
  },
  {
   "cell_type": "code",
   "execution_count": 35,
   "id": "45af7481",
   "metadata": {},
   "outputs": [
    {
     "name": "stdout",
     "output_type": "stream",
     "text": [
      "S1 =  0.9933071490757153\n",
      "S2 =  0.999983298578152\n"
     ]
    }
   ],
   "source": [
    "import numpy as np\n",
    "\n",
    "class Neuron:\n",
    "    def __init__(self, w):\n",
    "        self.w = w\n",
    "\n",
    "    def y (self, x):\n",
    "        s = np.dot( self.w, x)\n",
    "        return self.sigmoid(s)\n",
    "    \n",
    "    def onestep(self, s):\n",
    "        b=5\n",
    "        if s >= 5:\n",
    "            return 1\n",
    "        else:\n",
    "            return 0\n",
    "        \n",
    "        \n",
    "    def sigmoid(self, s):\n",
    "        return 1/(1+np.exp(-s))\n",
    "    \n",
    "\n",
    "\n",
    "Wi = np.array([1, 1])\n",
    "n = Neuron(Wi)\n",
    "\n",
    "Xi = np.array([2, 3])\n",
    "print(\"S1 = \", n.y(Xi))\n",
    "\n",
    "Xi = np.array([5, 6])\n",
    "print(\"S2 = \", n.y(Xi))\n",
    "\n",
    "\n",
    "\n",
    "\n"
   ]
  },
  {
   "cell_type": "code",
   "execution_count": 36,
   "id": "832971e8",
   "metadata": {},
   "outputs": [
    {
     "name": "stdout",
     "output_type": "stream",
     "text": [
      "Y =  0.9975273768433653\n"
     ]
    }
   ],
   "source": [
    "Wi = np.array([5, 4, 3, 1 ])\n",
    "n = Neuron(Wi)\n",
    "\n",
    "Xi = np.array([1, 0, 0, 1])\n",
    "\n",
    "print(\"Y = \", n.y(Xi))"
   ]
  },
  {
   "cell_type": "code",
   "execution_count": 37,
   "id": "b35a7c4e",
   "metadata": {},
   "outputs": [
    {
     "name": "stdout",
     "output_type": "stream",
     "text": [
      "Y =  0.9820137900379085\n"
     ]
    }
   ],
   "source": [
    "Xi = np.array([0, 0, 1, 1])\n",
    "\n",
    "print(\"Y = \", n.y(Xi))"
   ]
  },
  {
   "cell_type": "code",
   "execution_count": 42,
   "id": "db18bd8f",
   "metadata": {},
   "outputs": [
    {
     "name": "stdout",
     "output_type": "stream",
     "text": [
      "Y =  0.5\n"
     ]
    }
   ],
   "source": [
    "X1 = np.array([0, 0, 0, 0])\n",
    "print(\"Y = \", n.y(X1))"
   ]
  },
  {
   "cell_type": "code",
   "execution_count": null,
   "id": "b34c7272",
   "metadata": {},
   "outputs": [],
   "source": []
  }
 ],
 "metadata": {
  "kernelspec": {
   "display_name": "Python 3",
   "language": "python",
   "name": "python3"
  },
  "language_info": {
   "codemirror_mode": {
    "name": "ipython",
    "version": 3
   },
   "file_extension": ".py",
   "mimetype": "text/x-python",
   "name": "python",
   "nbconvert_exporter": "python",
   "pygments_lexer": "ipython3",
   "version": "3.11.7"
  }
 },
 "nbformat": 4,
 "nbformat_minor": 5
}
