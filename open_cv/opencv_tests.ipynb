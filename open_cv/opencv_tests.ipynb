{
 "cells": [
  {
   "cell_type": "code",
   "execution_count": 1,
   "metadata": {},
   "outputs": [],
   "source": [
    "import cv2\n",
    "import numpy as np\n",
    "import scipy\n",
    "import matplotlib\n",
    "import mahotas\n",
    "import sklearn\n",
    "import skimage\n",
    "import torch\n",
    "\n"
   ]
  },
  {
   "cell_type": "code",
   "execution_count": 2,
   "metadata": {},
   "outputs": [
    {
     "name": "stdout",
     "output_type": "stream",
     "text": [
      "OpenCV version: 4.9.0\n",
      "Numpy version: 1.26.4\n",
      "Scipy version: 1.12.0\n",
      "Matplotlib version: 3.8.3\n",
      "Mahotas version: 1.4.13\n",
      "Scikit-learn version: 1.4.1.post1\n",
      "Scikit-image version: 0.22.0\n",
      "Pytorch version: 2.2.1\n",
      "Cuda available: False\n"
     ]
    }
   ],
   "source": [
    "print(\"OpenCV version: {}\".format(cv2.__version__))\n",
    "print(\"Numpy version: {}\".format(np.__version__))\n",
    "print(\"Scipy version: {}\".format(scipy.__version__))\n",
    "print(\"Matplotlib version: {}\".format(matplotlib.__version__))\n",
    "print(\"Mahotas version: {}\".format(mahotas.__version__))\n",
    "print(\"Scikit-learn version: {}\".format(sklearn.__version__))\n",
    "print(\"Scikit-image version: {}\".format(skimage.__version__))\n",
    "print(\"Pytorch version: {}\".format(torch.__version__))\n",
    "print(\"Cuda available: {}\".format(torch.cuda.is_available()))\n"
   ]
  }
 ],
 "metadata": {
  "kernelspec": {
   "display_name": "Python 3",
   "language": "python",
   "name": "python3"
  },
  "language_info": {
   "codemirror_mode": {
    "name": "ipython",
    "version": 3
   },
   "file_extension": ".py",
   "mimetype": "text/x-python",
   "name": "python",
   "nbconvert_exporter": "python",
   "pygments_lexer": "ipython3",
   "version": "3.11.7"
  }
 },
 "nbformat": 4,
 "nbformat_minor": 2
}
